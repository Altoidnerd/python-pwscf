{
 "cells": [
  {
   "cell_type": "code",
   "execution_count": 10,
   "metadata": {
    "collapsed": true
   },
   "outputs": [],
   "source": [
    "f = open('hmx-data.txt').readlines()[2:]"
   ]
  },
  {
   "cell_type": "code",
   "execution_count": 16,
   "metadata": {},
   "outputs": [],
   "source": [
    "file=f"
   ]
  },
  {
   "cell_type": "code",
   "execution_count": 17,
   "metadata": {},
   "outputs": [],
   "source": [
    "temps=[ line.split()[0] for line in file[::2]]"
   ]
  },
  {
   "cell_type": "markdown",
   "metadata": {},
   "source": [
    "temps"
   ]
  },
  {
   "cell_type": "code",
   "execution_count": 13,
   "metadata": {},
   "outputs": [],
   "source": [
    "temperatures = []\n",
    "for thing in temps:\n",
    "    try:\n",
    "        temperatures.append(int(thing))\n",
    "    except ValueError:\n",
    "        pass"
   ]
  },
  {
   "cell_type": "markdown",
   "metadata": {},
   "source": [
    "temperatures"
   ]
  },
  {
   "cell_type": "code",
   "execution_count": 18,
   "metadata": {},
   "outputs": [
    {
     "data": {
      "text/plain": [
       "['77',\n",
       " '83',\n",
       " '93',\n",
       " '103',\n",
       " '113',\n",
       " '123',\n",
       " '135',\n",
       " '143',\n",
       " '153',\n",
       " '163',\n",
       " '173',\n",
       " '183',\n",
       " '193',\n",
       " '203',\n",
       " '213',\n",
       " '223',\n",
       " '233',\n",
       " '243',\n",
       " '253',\n",
       " '263',\n",
       " '273',\n",
       " '298',\n",
       " '315',\n",
       " '324',\n",
       " '334',\n",
       " '344',\n",
       " '354',\n",
       " '364',\n",
       " '375',\n",
       " '385',\n",
       " '395',\n",
       " '405',\n",
       " '415',\n",
       " '426']"
      ]
     },
     "execution_count": 18,
     "metadata": {},
     "output_type": "execute_result"
    }
   ],
   "source": [
    "temps"
   ]
  },
  {
   "cell_type": "code",
   "execution_count": null,
   "metadata": {
    "collapsed": true
   },
   "outputs": [],
   "source": []
  }
 ],
 "metadata": {
  "kernelspec": {
   "display_name": "Python 3",
   "language": "python",
   "name": "python3"
  },
  "language_info": {
   "codemirror_mode": {
    "name": "ipython",
    "version": 3
   },
   "file_extension": ".py",
   "mimetype": "text/x-python",
   "name": "python",
   "nbconvert_exporter": "python",
   "pygments_lexer": "ipython3",
   "version": "3.6.3"
  }
 },
 "nbformat": 4,
 "nbformat_minor": 2
}
